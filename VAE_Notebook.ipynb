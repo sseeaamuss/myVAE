{
 "cells": [
  {
   "cell_type": "markdown",
   "id": "3ddcffbe",
   "metadata": {},
   "source": [
    "# Variational AutoEncoder Code\n",
    "This notebook is an implementation of a variational auto-encoder which was taken from https://blog.lancedb.com/training-a-variational-autoencoder-from-scratch-with-the-lance-file-format/\n"
   ]
  },
  {
   "cell_type": "code",
   "execution_count": 1,
   "id": "ccf3647a",
   "metadata": {},
   "outputs": [],
   "source": [
    "import torch\n",
    "import torchvision\n",
    "import torch.nn as nn\n",
    "import torch.optim as optim\n",
    "from torch.utils import data\n",
    "import torchvision.transforms as transforms\n",
    "from torch.utils.data import DataLoader\n",
    "from torchvision.datasets import ImageFolder\n",
    "\n",
    "import io\n",
    "\n",
    "from PIL import Image\n",
    "from tqdm import tqdm\n",
    "\n",
    "\n",
    "from matplotlib import pyplot as plt\n",
    "\n",
    "import requests\n",
    "import tarfile\n",
    "import os\n",
    "import time\n",
    "\n",
    "import pyarrow as pa\n",
    "import lance\n"
   ]
  },
  {
   "cell_type": "markdown",
   "id": "4ea9eddf",
   "metadata": {},
   "source": [
    "### Variational Autoencoder Configuration"
   ]
  },
  {
   "cell_type": "code",
   "execution_count": 2,
   "id": "5261df90",
   "metadata": {},
   "outputs": [],
   "source": [
    "vae_config = {\n",
    "    \"BATCH_SIZE\": 4096,\n",
    "    \"IN_RESOLUTION\": 32,\n",
    "    \"IN_CHANNELS\": 3,\n",
    "    \"NUM_EPOCHS\": 100,\n",
    "    \"LEARNING_RATE\": 1e-4,\n",
    "    \"HIDDEN_DIMS\": [64, 128, 256, 512],\n",
    "    \"LATENT_DIM_SIZE\": 64,\n",
    "}"
   ]
  },
  {
   "cell_type": "markdown",
   "id": "dfea7d9a",
   "metadata": {},
   "source": [
    "### Utility function to visualise generated data."
   ]
  },
  {
   "cell_type": "code",
   "execution_count": 3,
   "id": "0e476525",
   "metadata": {},
   "outputs": [],
   "source": [
    "def draw_image_grid(samples):\n",
    "    images = samples[:4]\n",
    "    images = (images * 0.5) + 0.5  # Unnormalize the images to [0, 1] range\n",
    "    grid_img = torchvision.utils.make_grid(images, nrow=2)\n",
    "    plt.figure(figsize=(5, 5))\n",
    "    plt.imshow(grid_img.permute(1, 2, 0))  # Convert from (C, H, W) to (H, W, C)\n",
    "    plt.axis('off')\n",
    "    plt.show()"
   ]
  },
  {
   "cell_type": "code",
   "execution_count": 4,
   "id": "322d000f",
   "metadata": {},
   "outputs": [],
   "source": [
    "class CustomImageDataset(data.Dataset):\n",
    "    def __init__(self, classes, lance_dataset, transform=None):\n",
    "        self.classes = classes\n",
    "        self.ds = lance.dataset(lance_dataset)\n",
    "        self.transform = transform\n",
    "\n",
    "    def __len__(self):\n",
    "        return self.ds.count_rows()\n",
    "\n",
    "    def __getitem__(self, idx):\n",
    "        raw_data = self.ds.take([idx], columns=['image', 'label']).to_pydict()\n",
    "        img_data, label = raw_data['image'][0], raw_data['label'][0]\n",
    "\n",
    "        img = Image.open(io.BytesIO(img_data))\n",
    "\n",
    "        # Convert grayscale images to RGB\n",
    "        if img.mode != 'RGB':\n",
    "            img = img.convert('RGB')\n",
    "\n",
    "        if self.transform:\n",
    "            img = self.transform(img)\n",
    "\n",
    "        label = self.classes.index(label)\n",
    "        return img, label"
   ]
  },
  {
   "cell_type": "code",
   "execution_count": 5,
   "id": "ea9e71c6",
   "metadata": {},
   "outputs": [
    {
     "data": {
      "image/png": "[encoded data removed]",
      "text/plain": [
       "<Figure size 500x500 with 1 Axes>"
      ]
     },
     "metadata": {},
     "output_type": "display_data"
    }
   ],
   "source": [
    "train_transform = transforms.Compose(\n",
    "    [\n",
    "        transforms.ToTensor(),\n",
    "        transforms.Normalize((0.5, 0.5, 0.5), (0.5, 0.5, 0.5)), # -1 to 1\n",
    "    ]\n",
    ")\n",
    "classes = ('airplane', 'automobile', 'bird', 'cat', 'deer', 'dog', 'frog', 'horse', 'ship', 'truck')\n",
    "\n",
    "lance_train_dataset = CustomImageDataset(\n",
    "    classes,\n",
    "    \"cinic-10-data/cinic-10-data_train.lance/\",\n",
    "    transform=train_transform\n",
    ")\n",
    "\n",
    "lance_train_loader = torch.utils.data.DataLoader(\n",
    "    lance_train_dataset,\n",
    "    batch_size=vae_config[\"BATCH_SIZE\"],\n",
    "    shuffle=True\n",
    ")\n",
    "\n",
    "images, _ = next(iter(lance_train_loader))\n",
    "draw_image_grid(images)"
   ]
  },
  {
   "cell_type": "markdown",
   "id": "6dc058b6",
   "metadata": {},
   "source": [
    "### VAE Class Defintion "
   ]
  },
  {
   "cell_type": "code",
   "execution_count": 6,
   "id": "e668d174",
   "metadata": {},
   "outputs": [],
   "source": [
    "class VAE(nn.Module):\n",
    "    def __init__(self):\n",
    "        super(VAE, self).__init__()\n",
    "\n",
    "        # Encoder\n",
    "        self.encoder = nn.Sequential(\n",
    "            nn.Conv2d(vae_config[\"IN_CHANNELS\"], 32, kernel_size=4, stride=2, padding=1),\n",
    "            nn.ReLU(),\n",
    "            nn.Conv2d(32, 64, kernel_size=4, stride=2, padding=1),\n",
    "            nn.ReLU(),\n",
    "            nn.Conv2d(64, 128, kernel_size=4, stride=2, padding=1),\n",
    "            nn.ReLU(),\n",
    "            nn.Flatten()\n",
    "        )\n",
    "\n",
    "        self.fc_mu = nn.Linear(128*4*4, vae_config[\"LATENT_DIM_SIZE\"])\n",
    "        self.fc_logvar = nn.Linear(128*4*4, vae_config[\"LATENT_DIM_SIZE\"])\n",
    "\n",
    "        # Decoder\n",
    "        self.decoder_input = nn.Linear(vae_config[\"LATENT_DIM_SIZE\"], 128*4*4)\n",
    "\n",
    "        self.decoder = nn.Sequential(\n",
    "            nn.ConvTranspose2d(128, 64, kernel_size=4, stride=2, padding=1),\n",
    "            nn.ReLU(),\n",
    "            nn.ConvTranspose2d(64, 32, kernel_size=4, stride=2, padding=1),\n",
    "            nn.ReLU(),\n",
    "            nn.ConvTranspose2d(32, vae_config[\"IN_CHANNELS\"], kernel_size=4, stride=2, padding=1),\n",
    "            nn.Tanh()  # Output values in range [-1, 1]\n",
    "        )\n",
    "\n",
    "    def reparameterize(self, mu, logvar):\n",
    "        std = torch.exp(0.5 * logvar)\n",
    "        eps = torch.randn_like(std)\n",
    "        return mu + eps * std\n",
    "\n",
    "    def forward(self, x):\n",
    "        x = self.encoder(x)\n",
    "        mu = self.fc_mu(x)\n",
    "        logvar = self.fc_logvar(x)\n",
    "        z = self.reparameterize(mu, logvar)\n",
    "        z = self.decoder_input(z)\n",
    "        z = z.view(-1, 128, 4, 4)\n",
    "        return self.decoder(z), mu, logvar\n",
    "\n",
    "    def sample(self, num_samples):\n",
    "        z = torch.randn(num_samples, vae_config[\"LATENT_DIM_SIZE\"]).to(device)\n",
    "        return self.decoder(self.decoder_input(z).view(-1, 128, 4, 4))"
   ]
  },
  {
   "cell_type": "markdown",
   "id": "eca7b906",
   "metadata": {},
   "source": [
    "### Training the data"
   ]
  },
  {
   "cell_type": "code",
   "execution_count": 7,
   "id": "6330ea3f",
   "metadata": {},
   "outputs": [],
   "source": [
    "device = \"cpu\" #change to \"cuda\" if you have an NVIDIA CPU\n",
    "\n",
    "# Loss Function\n",
    "def vae_loss(recon_x, x, mu, logvar):\n",
    "    recon_loss = nn.functional.mse_loss(recon_x, x, reduction='sum')\n",
    "    kl_loss = -0.5 * torch.sum(1 + logvar - mu.pow(2) - logvar.exp())\n",
    "    return recon_loss + kl_loss\n",
    "\n",
    "# Initialize model, optimizer\n",
    "model = VAE().to(device)\n",
    "optimizer = optim.Adam(model.parameters(), lr=vae_config[\"LEARNING_RATE\"])"
   ]
  },
  {
   "cell_type": "code",
   "execution_count": null,
   "id": "66f2be11",
   "metadata": {},
   "outputs": [
    {
     "name": "stderr",
     "output_type": "stream",
     "text": [
      "Epoch 1/100:  27%|██▋       | 6/22 [01:14<03:17, 12.32s/it, Loss=3.14e+6]"
     ]
    }
   ],
   "source": [
    "for epoch in range(vae_config[\"NUM_EPOCHS\"]):\n",
    "    model.train()\n",
    "    train_loss = 0\n",
    "\n",
    "    # Use tqdm for the progress bar\n",
    "    pbar = tqdm(enumerate(lance_train_loader), total=len(lance_train_loader), desc=f'Epoch {epoch+1}/{vae_config[\"NUM_EPOCHS\"]}')\n",
    "\n",
    "    for batch_idx, (data, _) in pbar:\n",
    "        data = data.to(device)\n",
    "\n",
    "        optimizer.zero_grad()\n",
    "        recon_batch, mu, logvar = model(data)\n",
    "        loss = vae_loss(recon_batch, data, mu, logvar)\n",
    "        loss.backward()\n",
    "        train_loss += loss.item()\n",
    "        optimizer.step()\n",
    "\n",
    "        # Update tqdm description with current loss\n",
    "        pbar.set_postfix({'Loss': loss.item()})\n",
    "\n",
    "    avg_loss = train_loss / len(lance_train_loader.dataset)\n",
    "    print(f'Epoch [{epoch + 1}/{vae_config[\"NUM_EPOCHS\"]}] Average Loss: {avg_loss:.4f}')\n",
    "\n",
    "    # show and display a sample of the reconstructed images\n",
    "    if epoch % 10 == 0:\n",
    "        with torch.no_grad():\n",
    "            sampled_images = model.sample(num_samples=4)\n",
    "            draw_image_grid(recon_batch.cpu())"
   ]
  },
  {
   "cell_type": "markdown",
   "id": "6450badb",
   "metadata": {},
   "source": [
    "### The Reconstructed Images"
   ]
  },
  {
   "cell_type": "code",
   "execution_count": null,
   "id": "57945ff9",
   "metadata": {},
   "outputs": [],
   "source": [
    "images, _ = next(iter(lance_train_loader))\n",
    "draw_image_grid(images)"
   ]
  },
  {
   "cell_type": "markdown",
   "id": "d1ece8da",
   "metadata": {},
   "source": []
  },
  {
   "cell_type": "code",
   "execution_count": null,
   "id": "5ff6bf70",
   "metadata": {},
   "outputs": [],
   "source": [
    "with torch.no_grad():\n",
    "    recon_images, _, _ = model(images.to(device))\n",
    "draw_image_grid(recon_images.cpu())"
   ]
  }
 ],
 "metadata": {
  "kernelspec": {
   "display_name": "Python 3",
   "language": "python",
   "name": "python3"
  },
  "language_info": {
   "codemirror_mode": {
    "name": "ipython",
    "version": 3
   },
   "file_extension": ".py",
   "mimetype": "text/x-python",
   "name": "python",
   "nbconvert_exporter": "python",
   "pygments_lexer": "ipython3",
   "version": "3.11.9"
  }
 },
 "nbformat": 4,
 "nbformat_minor": 5
}
